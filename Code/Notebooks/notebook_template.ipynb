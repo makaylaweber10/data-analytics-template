{
 "cells": [
  {
   "cell_type": "markdown",
   "id": "93e42e76-9724-4be9-865b-3ea6ccff3fbe",
   "metadata": {},
   "source": [
    "## Project Name"
   ]
  },
  {
   "cell_type": "markdown",
   "id": "45024bc0-cb74-4984-88e0-95ba6b5877ca",
   "metadata": {},
   "source": [
    "**Author:** Makayla Weber \n",
    "**Last Modified:** 11-17-2024 (created: 11-17-2024)\n",
    "\n",
    "**Description:** Short paragraph explaining this project."
   ]
  },
  {
   "cell_type": "markdown",
   "id": "b05fa3e6-9ba6-435f-92d6-90c92232481c",
   "metadata": {},
   "source": [
    "<br>"
   ]
  },
  {
   "cell_type": "markdown",
   "id": "a2348c80-48e3-4c3e-9f9d-6f21f1a1bea8",
   "metadata": {},
   "source": [
    "## Import Libraries:"
   ]
  },
  {
   "cell_type": "code",
   "execution_count": 5,
   "id": "2aa116d3-eb69-4d78-8d9d-81b59263a6a4",
   "metadata": {},
   "outputs": [],
   "source": [
    "import pandas as pd"
   ]
  },
  {
   "cell_type": "markdown",
   "id": "00c40111-c864-4130-b898-7505205bb655",
   "metadata": {},
   "source": [
    "## Load Data: "
   ]
  },
  {
   "cell_type": "code",
   "execution_count": 7,
   "id": "78e9bbec-4b60-4d07-83b0-e4f7fefa437f",
   "metadata": {},
   "outputs": [],
   "source": [
    "# Code to read csv file \n",
    "df = pd.read_csv('file_name', encoding='utf-8', sep=',')\n",
    "display(df)"
   ]
  },
  {
   "cell_type": "markdown",
   "id": "944ecc3d-2315-4e4f-9823-7497f27cc0c4",
   "metadata": {},
   "source": [
    "## Save Data: "
   ]
  },
  {
   "cell_type": "code",
   "execution_count": null,
   "id": "5cc37eea-2a85-4491-926f-620ec1445e3f",
   "metadata": {},
   "outputs": [],
   "source": [
    "# Code to save to csv file\n",
    "df.to_csv('file_name', index=False)"
   ]
  }
 ],
 "metadata": {
  "kernelspec": {
   "display_name": "Python 3 (ipykernel)",
   "language": "python",
   "name": "python3"
  },
  "language_info": {
   "codemirror_mode": {
    "name": "ipython",
    "version": 3
   },
   "file_extension": ".py",
   "mimetype": "text/x-python",
   "name": "python",
   "nbconvert_exporter": "python",
   "pygments_lexer": "ipython3",
   "version": "3.12.4"
  }
 },
 "nbformat": 4,
 "nbformat_minor": 5
}
